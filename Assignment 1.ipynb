{
 "cells": [
  {
   "cell_type": "code",
   "execution_count": 2,
   "metadata": {},
   "outputs": [
    {
     "name": "stdout",
     "output_type": "stream",
     "text": [
      "Enter radius of circle: 0.5\n",
      "Area of circle is:  0.7853981633974483\n"
     ]
    }
   ],
   "source": [
    "# TASK 1\n",
    "from math import pi\n",
    "x = float(input(\"Enter radius of circle: \"))\n",
    "print(\"Area of circle is: \", pi * x * x)"
   ]
  },
  {
   "cell_type": "markdown",
   "metadata": {},
   "source": [
    "# TASK 2"
   ]
  },
  {
   "cell_type": "code",
   "execution_count": 3,
   "metadata": {},
   "outputs": [
    {
     "name": "stdout",
     "output_type": "stream",
     "text": [
      "Enter a Value: -5\n",
      "Value is negative!\n"
     ]
    }
   ],
   "source": [
    "num = float(input(\"Enter a Value: \"))\n",
    "if num > 0:\n",
    "    print(\"Value is positive!\")\n",
    "elif num < 0:\n",
    "    print(\"Value is negative!\")\n",
    "else :\n",
    "    print(\"Value is zero!\")"
   ]
  },
  {
   "cell_type": "code",
   "execution_count": 4,
   "metadata": {},
   "outputs": [
    {
     "name": "stdout",
     "output_type": "stream",
     "text": [
      "Enter a Value: 34\n",
      "Value is positive!\n"
     ]
    }
   ],
   "source": [
    "num = float(input(\"Enter a Value: \"))\n",
    "if num > 0:\n",
    "    print(\"Value is positive!\")\n",
    "elif num < 0:\n",
    "    print(\"Value is negative!\")\n",
    "else :\n",
    "    print(\"Value is zero!\")"
   ]
  },
  {
   "cell_type": "code",
   "execution_count": 5,
   "metadata": {},
   "outputs": [
    {
     "name": "stdout",
     "output_type": "stream",
     "text": [
      "Enter a Value: 0\n",
      "Value is zero!\n"
     ]
    }
   ],
   "source": [
    "num = float(input(\"Enter a Value: \"))\n",
    "if num > 0:\n",
    "    print(\"Value is positive!\")\n",
    "elif num < 0:\n",
    "    print(\"Value is negative!\")\n",
    "else :\n",
    "    print(\"Value is zero!\")"
   ]
  },
  {
   "cell_type": "code",
   "execution_count": 6,
   "metadata": {},
   "outputs": [
    {
     "name": "stdout",
     "output_type": "stream",
     "text": [
      "Enter a Value: 34.7\n",
      "Value is positive!\n"
     ]
    }
   ],
   "source": [
    "num = float(input(\"Enter a Value: \"))\n",
    "if num > 0:\n",
    "    print(\"Value is positive!\")\n",
    "elif num < 0:\n",
    "    print(\"Value is negative!\")\n",
    "else :\n",
    "    print(\"Value is zero!\")"
   ]
  },
  {
   "cell_type": "code",
   "execution_count": 7,
   "metadata": {},
   "outputs": [
    {
     "name": "stdout",
     "output_type": "stream",
     "text": [
      "Enter a Value: -2.8\n",
      "Value is negative!\n"
     ]
    }
   ],
   "source": [
    "num = float(input(\"Enter a Value: \"))\n",
    "if num > 0:\n",
    "    print(\"Value is positive!\")\n",
    "elif num < 0:\n",
    "    print(\"Value is negative!\")\n",
    "else :\n",
    "    print(\"Value is zero!\")"
   ]
  },
  {
   "cell_type": "markdown",
   "metadata": {},
   "source": [
    "# TASK 3"
   ]
  },
  {
   "cell_type": "code",
   "execution_count": 8,
   "metadata": {},
   "outputs": [
    {
     "name": "stdout",
     "output_type": "stream",
     "text": [
      "Enter numerator: 15\n",
      "Enter denumerator: 3\n",
      "15 is completely divisible by 3\n"
     ]
    }
   ],
   "source": [
    "x = int(input(\"Enter numerator: \"))\n",
    "y = int(input(\"Enter denumerator: \"))\n",
    "if x % y == 0:\n",
    "    print(x,\"is completely divisible by\",y)\n",
    "else:\n",
    "    print(x,\"is not completely divisible by\",y)"
   ]
  },
  {
   "cell_type": "code",
   "execution_count": 9,
   "metadata": {},
   "outputs": [
    {
     "name": "stdout",
     "output_type": "stream",
     "text": [
      "Enter numerator: 12\n",
      "Enter denumerator: 5\n",
      "12 is not completely divisible by 5\n"
     ]
    }
   ],
   "source": [
    "x = int(input(\"Enter numerator: \"))\n",
    "y = int(input(\"Enter denumerator: \"))\n",
    "if x % y == 0:\n",
    "    print(x,\"is completely divisible by\",y)\n",
    "else:\n",
    "    print(x,\"is not completely divisible by\",y)"
   ]
  },
  {
   "cell_type": "markdown",
   "metadata": {},
   "source": [
    "# TASK 4"
   ]
  },
  {
   "cell_type": "code",
   "execution_count": 10,
   "metadata": {},
   "outputs": [
    {
     "name": "stdout",
     "output_type": "stream",
     "text": [
      "Enter a date in (dd/mm/yy) Format: 12/11/2018\n",
      "Enter a date in (dd/mm/yy) Format: 19/12/2018\n",
      "There are 37 days in b/w 12/11/2018 and 19/12/2018\n"
     ]
    }
   ],
   "source": [
    "from datetime import datetime\n",
    "date_format = \"%d/%m/%Y\"\n",
    "a = input(\"Enter a date in (dd/mm/yy) Format: \")\n",
    "b = input(\"Enter a date in (dd/mm/yy) Format: \")\n",
    "c = datetime.strptime( a , date_format)\n",
    "d = datetime.strptime( b , date_format)\n",
    "delta = d - c\n",
    "print (\"There are\", delta.days, \"days in b/w\", a , \"and\" , b)"
   ]
  },
  {
   "cell_type": "markdown",
   "metadata": {},
   "source": [
    "# TASK 5"
   ]
  },
  {
   "cell_type": "code",
   "execution_count": 1,
   "metadata": {},
   "outputs": [
    {
     "name": "stdout",
     "output_type": "stream",
     "text": [
      "Radius of sphere: 1\n",
      "surface area:  12.571428571428571\n",
      "Volume:  4.19047619047619\n"
     ]
    }
   ],
   "source": [
    "pi = 22/7\n",
    "radian = float(input('Radius of sphere: '))\n",
    "surf_area = 4 * pi * radian **2\n",
    "vol = (4/3) * (pi * radian **3)\n",
    "print(\"surface area: \", surf_area)\n",
    "print(\"Volume: \", vol)"
   ]
  },
  {
   "cell_type": "markdown",
   "metadata": {},
   "source": [
    "# TASK 6"
   ]
  },
  {
   "cell_type": "code",
   "execution_count": 3,
   "metadata": {},
   "outputs": [
    {
     "name": "stdout",
     "output_type": "stream",
     "text": [
      "Enter String: hi\n",
      "How many copies of String you need: 6\n",
      "6  Copies of  hi  are  hihihihihihi\n"
     ]
    }
   ],
   "source": [
    "string = input(\"Enter String: \")\n",
    "num = int(input(\"How many copies of String you need: \"))\n",
    "print(num, \" Copies of \", string, \" are \", num*string)"
   ]
  },
  {
   "cell_type": "markdown",
   "metadata": {},
   "source": [
    "# TASK 7"
   ]
  },
  {
   "cell_type": "code",
   "execution_count": 2,
   "metadata": {},
   "outputs": [
    {
     "name": "stdout",
     "output_type": "stream",
     "text": [
      "Enter a number: 64\n",
      "64 is even\n"
     ]
    }
   ],
   "source": [
    "numb = int(input(\"Enter a number: \"))\n",
    "if numb % 2 == 0:\n",
    "    print(numb, \"is even\")\n",
    "else:\n",
    "    print(numb, \"is odd\")"
   ]
  },
  {
   "cell_type": "code",
   "execution_count": 3,
   "metadata": {},
   "outputs": [
    {
     "name": "stdout",
     "output_type": "stream",
     "text": [
      "Enter a number: 99\n",
      "99 is odd\n"
     ]
    }
   ],
   "source": [
    "numb = int(input(\"Enter a number: \"))\n",
    "if numb % 2 == 0:\n",
    "    print(numb, \"is even\")\n",
    "else:\n",
    "    print(numb, \"is odd\")"
   ]
  },
  {
   "cell_type": "markdown",
   "metadata": {},
   "source": [
    "# TASK 8"
   ]
  },
  {
   "cell_type": "code",
   "execution_count": 5,
   "metadata": {},
   "outputs": [
    {
     "name": "stdout",
     "output_type": "stream",
     "text": [
      "Enter a character: O\n",
      "O is a Vowel\n"
     ]
    }
   ],
   "source": [
    "ch = input(\"Enter a character: \")\n",
    "\n",
    "if(ch=='A' or ch=='a' or ch=='E' or ch =='e' or ch=='I'\n",
    " or ch=='i' or ch=='O' or ch=='o' or ch=='U' or ch=='u'):\n",
    "    print(ch, \"is a Vowel\")\n",
    "else:\n",
    "    print(ch, \"is a Consonant\")"
   ]
  },
  {
   "cell_type": "code",
   "execution_count": 6,
   "metadata": {},
   "outputs": [
    {
     "name": "stdout",
     "output_type": "stream",
     "text": [
      "Enter a character: i\n",
      "i is a Vowel\n"
     ]
    }
   ],
   "source": [
    "ch = input(\"Enter a character: \")\n",
    "\n",
    "if(ch=='A' or ch=='a' or ch=='E' or ch =='e' or ch=='I'\n",
    " or ch=='i' or ch=='O' or ch=='o' or ch=='U' or ch=='u'):\n",
    "    print(ch, \"is a Vowel\")\n",
    "else:\n",
    "    print(ch, \"is a Consonant\")"
   ]
  },
  {
   "cell_type": "code",
   "execution_count": 7,
   "metadata": {},
   "outputs": [
    {
     "name": "stdout",
     "output_type": "stream",
     "text": [
      "Enter a character: G\n",
      "G is a Consonant\n"
     ]
    }
   ],
   "source": [
    "ch = input(\"Enter a character: \")\n",
    "\n",
    "if(ch=='A' or ch=='a' or ch=='E' or ch =='e' or ch=='I'\n",
    " or ch=='i' or ch=='O' or ch=='o' or ch=='U' or ch=='u'):\n",
    "    print(ch, \"is a Vowel\")\n",
    "else:\n",
    "    print(ch, \"is a Consonant\")"
   ]
  },
  {
   "cell_type": "markdown",
   "metadata": {},
   "source": [
    "# TASK 9"
   ]
  },
  {
   "cell_type": "code",
   "execution_count": 8,
   "metadata": {},
   "outputs": [
    {
     "name": "stdout",
     "output_type": "stream",
     "text": [
      "Enter Base 2\n",
      "Enter Height 3\n",
      "3.0\n"
     ]
    }
   ],
   "source": [
    "base = float(input(\"Enter Base \"))\n",
    "height = float(input(\"Enter Height \"))\n",
    "area = (1/2)*base*height\n",
    "print(area)"
   ]
  },
  {
   "cell_type": "code",
   "execution_count": 9,
   "metadata": {},
   "outputs": [
    {
     "name": "stdout",
     "output_type": "stream",
     "text": [
      "Enter Base 4\n",
      "Enter Height 7\n",
      "14.0\n"
     ]
    }
   ],
   "source": [
    "base = float(input(\"Enter Base \"))\n",
    "height = float(input(\"Enter Height \"))\n",
    "area = (1/2)*base*height\n",
    "print(area)"
   ]
  },
  {
   "cell_type": "markdown",
   "metadata": {},
   "source": [
    "# TASK 10"
   ]
  },
  {
   "cell_type": "code",
   "execution_count": 13,
   "metadata": {},
   "outputs": [
    {
     "name": "stdout",
     "output_type": "stream",
     "text": [
      "Please enter principal amount: 50000\n",
      "Please enter rate of interest in %: 0.5\n",
      "Enter number of years for investment: 3\n",
      "After 3 years your principal amount 50000 over an interest rate of 0.5 % will be 168750.0\n"
     ]
    }
   ],
   "source": [
    "amount = int(input(\"Please enter principal amount: \"))\n",
    "rate = float(input(\"Please enter rate of interest in %: \"))\n",
    "years = int(input(\"Enter number of years for investment: \"))\n",
    "c = amount   #in order to print the initital principal amount because the \"amount\" value will be changed in while loop\n",
    "a = rate * amount\n",
    "b = 0\n",
    "while b < years:\n",
    "    amount += a\n",
    "    a = rate * amount\n",
    "    b += 1\n",
    "print(\"After\", years, \"years your principal amount\", c, \"over an interest rate of\", rate, \"% will be\", amount)"
   ]
  },
  {
   "cell_type": "markdown",
   "metadata": {},
   "source": [
    "# TASK 11"
   ]
  },
  {
   "cell_type": "code",
   "execution_count": 18,
   "metadata": {},
   "outputs": [
    {
     "name": "stdout",
     "output_type": "stream",
     "text": [
      "Enter Co-ordinate for x1: 2\n",
      "Enter Co-ordinate for x2: 4\n",
      "Enter Co-ordinate for y1: 3\n",
      "Enter Co-ordinate for y2: 6\n",
      "Distance between points ( 2 , 3 ) and ( 4 , 6 ) is 3.605551275463989\n"
     ]
    }
   ],
   "source": [
    "import math\n",
    "x1 = int(input(\"Enter Co-ordinate for x1: \"))\n",
    "x2 = int(input(\"Enter Co-ordinate for x2: \"))\n",
    "y1 = int(input(\"Enter Co-ordinate for y1: \"))\n",
    "y2 = int(input(\"Enter Co-ordinate for y2: \"))\n",
    "X = ((x2 - x1) * (x2 - x1)) + ((y2 - y1) * (y2 - y1))\n",
    "Y = math.sqrt(X)\n",
    "print(\"Distance between points (\",x1,\",\",y1,\") and (\",x2,\",\",y2,\") is\", Y)"
   ]
  },
  {
   "cell_type": "markdown",
   "metadata": {},
   "source": [
    "# TASK 12"
   ]
  },
  {
   "cell_type": "code",
   "execution_count": 8,
   "metadata": {},
   "outputs": [
    {
     "name": "stdout",
     "output_type": "stream",
     "text": [
      "Enter Height in Feet: 7\n",
      "There are 213.4cm in 7.0ft\n"
     ]
    }
   ],
   "source": [
    "ft = float(input(\"Enter Height in Feet: \"))\n",
    "cent = round((ft*30.48),1)\n",
    "print(\"There are \"+ str(cent) + \"cm in \" + str(ft) + \"ft\")"
   ]
  },
  {
   "cell_type": "markdown",
   "metadata": {},
   "source": [
    "# TASK 13"
   ]
  },
  {
   "cell_type": "code",
   "execution_count": 13,
   "metadata": {},
   "outputs": [
    {
     "name": "stdout",
     "output_type": "stream",
     "text": [
      " Enter Height 6.4\n",
      " Enter weight 68\n",
      "16601.5625\n"
     ]
    }
   ],
   "source": [
    "height = float(input(\" Enter Height \"))\n",
    "weight = float(input(\" Enter weight \"))\n",
    "BMI = weight/((height/100)**2)\n",
    "             \n",
    "print(BMI)"
   ]
  },
  {
   "cell_type": "markdown",
   "metadata": {},
   "source": [
    "# TASK 14"
   ]
  },
  {
   "cell_type": "code",
   "execution_count": 18,
   "metadata": {},
   "outputs": [
    {
     "name": "stdout",
     "output_type": "stream",
     "text": [
      "Enter value: 5\n",
      "The sum of n numbers is: 15\n"
     ]
    }
   ],
   "source": [
    "value = input(\"Enter value: \")\n",
    "value = int(value)\n",
    "x = 0\n",
    "y = 0\n",
    "while x <= value:\n",
    "    y = y + x\n",
    "    x += 1\n",
    "print(\"The sum of n numbers is: \"+ str(y))"
   ]
  },
  {
   "cell_type": "markdown",
   "metadata": {},
   "source": [
    "# TASK 15"
   ]
  },
  {
   "cell_type": "code",
   "execution_count": 24,
   "metadata": {},
   "outputs": [
    {
     "name": "stdout",
     "output_type": "stream",
     "text": [
      "Entern the value 2462\n",
      "the sum 2462 is  14\n"
     ]
    }
   ],
   "source": [
    "cnt = 0\n",
    "number = input('Entern the value ')\n",
    "for i in number:\n",
    "    i = int(i)\n",
    "    cnt += i\n",
    "print('the sum',number,'is ',cnt)"
   ]
  },
  {
   "cell_type": "markdown",
   "metadata": {},
   "source": [
    "# TASK 16"
   ]
  },
  {
   "cell_type": "code",
   "execution_count": 35,
   "metadata": {},
   "outputs": [
    {
     "name": "stdout",
     "output_type": "stream",
     "text": [
      "Enter number in Decimal Format: 2\n",
      "2 in Binary = 0b10\n"
     ]
    }
   ],
   "source": [
    "dec = input(\"Enter number in Decimal Format: \");\n",
    "if dec == 'x':\n",
    "    exit();\n",
    "else:\n",
    "    decimal = int(dec);\n",
    "    print(decimal,\"in Binary =\",bin(decimal))"
   ]
  },
  {
   "cell_type": "markdown",
   "metadata": {},
   "source": [
    "# TASK 17"
   ]
  },
  {
   "cell_type": "code",
   "execution_count": 36,
   "metadata": {},
   "outputs": [
    {
     "name": "stdout",
     "output_type": "stream",
     "text": [
      "Enter any binary number: 11001\n",
      "The binary conversion is: 25\n"
     ]
    }
   ],
   "source": [
    "num = input(\"Enter any binary number: \")\n",
    "number = int(num, 2)\n",
    "print(\"The binary conversion is: \"+ str(number))"
   ]
  },
  {
   "cell_type": "markdown",
   "metadata": {},
   "source": [
    "# TASK 18"
   ]
  },
  {
   "cell_type": "code",
   "execution_count": 39,
   "metadata": {},
   "outputs": [
    {
     "name": "stdout",
     "output_type": "stream",
     "text": [
      "Please Enter Your Own String : Hy I am Raja Ahmed\n",
      "Total Number of Vowels in this String =  6\n",
      "Total Number of Consonants in this String =  12\n"
     ]
    }
   ],
   "source": [
    "string = input(\"Please Enter Your Own String : \")\n",
    "vowels = 0\n",
    "consonants = 0\n",
    "\n",
    "for x in string:\n",
    "    if(x == 'a' or x == 'e' or x == 'i' or x == 'o' or x == 'u'\n",
    "       or x == 'A' or x == 'E' or x == 'I' or x == 'O' or x == 'U'):\n",
    "        vowels = vowels + 1\n",
    "    else:\n",
    "        consonants = consonants + 1\n",
    " \n",
    "print(\"Total Number of Vowels in this String = \", vowels)\n",
    "print(\"Total Number of Consonants in this String = \", consonants)"
   ]
  },
  {
   "cell_type": "markdown",
   "metadata": {},
   "source": [
    "# TASK 19"
   ]
  },
  {
   "cell_type": "code",
   "execution_count": 47,
   "metadata": {},
   "outputs": [
    {
     "name": "stdout",
     "output_type": "stream",
     "text": [
      "Please enter the string: Hello\n",
      "The input value is not palindrome\n"
     ]
    }
   ],
   "source": [
    "str = input(\"Please enter the string: \")\n",
    "str = str.casefold()\n",
    "str_rev = reversed(str)\n",
    "if list(str_rev) == list(str):\n",
    "    print(\"The input value is palindrome\")\n",
    "else:\n",
    "    print(\"The input value is not palindrome\")"
   ]
  },
  {
   "cell_type": "code",
   "execution_count": 46,
   "metadata": {},
   "outputs": [
    {
     "name": "stdout",
     "output_type": "stream",
     "text": [
      "Please enter the string: ISI\n",
      "The input value is palindrome\n"
     ]
    }
   ],
   "source": [
    "str = input(\"Please enter the string: \")\n",
    "str = str.casefold()\n",
    "str_rev = reversed(str)\n",
    "if list(str_rev) == list(str):\n",
    "    print(\"The input value is palindrome\")\n",
    "else:\n",
    "    print(\"The input value is not palindrome\")"
   ]
  },
  {
   "cell_type": "markdown",
   "metadata": {},
   "source": [
    "# TASK 20"
   ]
  },
  {
   "cell_type": "code",
   "execution_count": 48,
   "metadata": {},
   "outputs": [
    {
     "name": "stdout",
     "output_type": "stream",
     "text": [
      "Please Enter your Own String : ra6513784@gmail.com\n",
      "\n",
      "Total Number of Alphabets in this String :   10\n",
      "Total Number of Digits in this String :   7\n",
      "Total Number of Special Characters in this String :   2\n"
     ]
    }
   ],
   "source": [
    "string = input(\"Please Enter your Own String : \")\n",
    "alphabets = digits = special = 0\n",
    "\n",
    "for i in range(len(string)):\n",
    "    if(string[i].isalpha()):\n",
    "        alphabets = alphabets + 1\n",
    "    elif(string[i].isdigit()):\n",
    "        digits = digits + 1\n",
    "    else:\n",
    "        special = special + 1\n",
    "        \n",
    "print(\"\\nTotal Number of Alphabets in this String :  \", alphabets)\n",
    "print(\"Total Number of Digits in this String :  \", digits)\n",
    "print(\"Total Number of Special Characters in this String :  \", special)"
   ]
  },
  {
   "cell_type": "markdown",
   "metadata": {},
   "source": [
    "# TASK 21"
   ]
  },
  {
   "cell_type": "code",
   "execution_count": 49,
   "metadata": {},
   "outputs": [
    {
     "name": "stdout",
     "output_type": "stream",
     "text": [
      "*\n",
      "**\n",
      "***\n",
      "****\n",
      "*****\n",
      "****\n",
      "***\n",
      "**\n",
      "*\n"
     ]
    }
   ],
   "source": [
    "a = 1\n",
    "i = \"*\"\n",
    "while a < 5:\n",
    "    print(i * a)\n",
    "    a += 1\n",
    "while a >= 1:\n",
    "    print(i * a)\n",
    "    a -= 1"
   ]
  },
  {
   "cell_type": "markdown",
   "metadata": {},
   "source": [
    "# TASK 22\n"
   ]
  },
  {
   "cell_type": "code",
   "execution_count": 52,
   "metadata": {},
   "outputs": [
    {
     "name": "stdout",
     "output_type": "stream",
     "text": [
      "1 \n",
      "1 2 \n",
      "1 2 3 \n",
      "1 2 3 4 \n",
      "1 2 3 4 5 \n",
      "1 2 3 4 \r\n",
      "1 2 3 \r\n",
      "1 2 \r\n",
      "1 \r\n"
     ]
    }
   ],
   "source": [
    "row = 1\n",
    "column = 1\n",
    "for row in range(1, lastNumber):\n",
    "    for column in range(1, row + 1):\n",
    "        print(column, end=' ')\n",
    "    print(\"\")\n",
    "\n",
    "rows = 4\n",
    "for i in range (rows,0,-1):\n",
    "    for j in range(1, i + 1):\n",
    "        print(j, end=' ')\n",
    "    print(\"\\r\")"
   ]
  },
  {
   "cell_type": "markdown",
   "metadata": {},
   "source": [
    "# TASK 23"
   ]
  },
  {
   "cell_type": "code",
   "execution_count": 53,
   "metadata": {},
   "outputs": [
    {
     "name": "stdout",
     "output_type": "stream",
     "text": [
      "\n",
      "\n",
      "1 \n",
      "\n",
      "2 2 \n",
      "\n",
      "3 3 3 \n",
      "\n",
      "4 4 4 4 \n",
      "\n",
      "5 5 5 5 5 \n",
      "\n",
      "6 6 6 6 6 6 \n",
      "\n",
      "7 7 7 7 7 7 7 \n",
      "\n",
      "8 8 8 8 8 8 8 8 \n",
      "\n",
      "9 9 9 9 9 9 9 9 9 \n",
      "\n"
     ]
    }
   ],
   "source": [
    "for num in range(10):\n",
    "    for i in range(num):\n",
    "        print (num, end=\" \") \n",
    "    print(\"\\n\")"
   ]
  }
 ],
 "metadata": {
  "kernelspec": {
   "display_name": "Python 3",
   "language": "python",
   "name": "python3"
  },
  "language_info": {
   "codemirror_mode": {
    "name": "ipython",
    "version": 3
   },
   "file_extension": ".py",
   "mimetype": "text/x-python",
   "name": "python",
   "nbconvert_exporter": "python",
   "pygments_lexer": "ipython3",
   "version": "3.7.3"
  }
 },
 "nbformat": 4,
 "nbformat_minor": 2
}
